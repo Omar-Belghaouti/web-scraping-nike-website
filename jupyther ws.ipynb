{
 "cells": [
  {
   "cell_type": "code",
   "execution_count": 5,
   "metadata": {},
   "outputs": [],
   "source": [
    "import bs4\n",
    "from urllib.request import urlopen as ureq\n",
    "from bs4 import BeautifulSoup as soup"
   ]
  },
  {
   "cell_type": "code",
   "execution_count": 6,
   "metadata": {},
   "outputs": [],
   "source": [
    "my_url = \"https://store.nike.com/fr/fr_fr/pw/homme-compression-nike-pro/7puZobn\""
   ]
  },
  {
   "cell_type": "code",
   "execution_count": 13,
   "metadata": {},
   "outputs": [],
   "source": [
    "uclient = ureq(my_url)\n",
    "page_html = uclient.read()\n",
    "uclient.close()\n",
    "page_soup = soup(page_html , \"html.parser\")\n"
   ]
  },
  {
   "cell_type": "code",
   "execution_count": 39,
   "metadata": {},
   "outputs": [],
   "source": [
    "grides = page_soup.findAll(\"div\" , {\"class\" : \"grid-item-info\"})\n",
    "len(grides)\n",
    "gride = grides[0]"
   ]
  },
  {
   "cell_type": "code",
   "execution_count": null,
   "metadata": {},
   "outputs": [],
   "source": []
  },
  {
   "cell_type": "code",
   "execution_count": null,
   "metadata": {},
   "outputs": [],
   "source": []
  },
  {
   "cell_type": "code",
   "execution_count": 118,
   "metadata": {},
   "outputs": [
    {
     "name": "stdout",
     "output_type": "stream",
     "text": [
      "https://store.nike.com/fr/fr_fr/pw/homme-v%C3%AAtements/1mdZ7pu?ipp=120\n",
      "https://store.nike.com/fr/fr_fr/pw/homme-compression-nike-pro/7puZobn\n"
     ]
    }
   ],
   "source": [
    "my_url = {\"Chaussures de running\" : \"https://store.nike.com/fr/fr_fr/pw/homme-v%C3%AAtements/1mdZ7pu?ipp=120\",\"CHAUSSURES DE FOOTBALL\" : \"https://store.nike.com/fr/fr_fr/pw/homme-compression-nike-pro/7puZobn\"}\n",
    "for x in my_url :\n",
    "    print(my_url[x])\n"
   ]
  },
  {
   "cell_type": "code",
   "execution_count": null,
   "metadata": {},
   "outputs": [],
   "source": []
  }
 ],
 "metadata": {
  "kernelspec": {
   "display_name": "Python 3",
   "language": "python",
   "name": "python3"
  },
  "language_info": {
   "codemirror_mode": {
    "name": "ipython",
    "version": 3
   },
   "file_extension": ".py",
   "mimetype": "text/x-python",
   "name": "python",
   "nbconvert_exporter": "python",
   "pygments_lexer": "ipython3",
   "version": "3.6.6"
  }
 },
 "nbformat": 4,
 "nbformat_minor": 2
}
